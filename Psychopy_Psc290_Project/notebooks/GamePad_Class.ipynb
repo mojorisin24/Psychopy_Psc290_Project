{
 "cells": [
  {
   "cell_type": "markdown",
   "metadata": {},
   "source": [
    "# This Notebook will serve to highlight how the class was made for my gamepad of interest \n",
    " - In this case we're using the logitech precision gamepad. \n",
    " - Upon testing the gamepad inputs, there are several inputs that lead to keyback errors. \n",
    " - Please refer to keylog raw under docs if curious on why the inputs that were chosen were chosen. \n"
   ]
  },
  {
   "cell_type": "code",
   "execution_count": null,
   "metadata": {},
   "outputs": [],
   "source": [
    "# Example class taking from gamepad library \n",
    "class example(Gamepad):\n",
    "    # This class must have self.axisNames with a map\n",
    "    # of numbers to capitalised strings. Follow the\n",
    "    # conventions the other classes use for generic\n",
    "    # axes, make up your own names for axes unique\n",
    "    # to your device.\n",
    "    # self.buttonNames needs the same treatment.\n",
    "    # Use python Gamepad.py to get the event mappings.\n",
    "    fullName = 'Enter the human readable name of the device here'\n",
    "\n",
    "    def __init__(self, joystickNumber = 0):\n",
    "        Gamepad.__init__(self, joystickNumber)\n",
    "        self.axisNames = {\n",
    "            0: 'AXIS0',\n",
    "            1: 'AXIS1',\n",
    "            2: 'AXIS2'\n",
    "        }\n",
    "        self.buttonNames = {\n",
    "            0: 'BUTTON0',\n",
    "            1: 'BUTTON1',\n",
    "            2: 'BUTTON2'\n",
    "        }\n",
    "        self._setupReverseMaps()"
   ]
  },
  {
   "cell_type": "code",
   "execution_count": null,
   "metadata": {},
   "outputs": [],
   "source": [
    "# Class we generated for the logitech precision gamepad \n",
    "class Precision(Gamepad):\n",
    "\n",
    "    fullName = 'Logitech Precision Gamepad'\n",
    "\n",
    "    def __init__(self, joystickNumber = 0):\n",
    "        Gamepad.__init__(self, joystickNumber)\n",
    "        self.axisNames = {\n",
    "            1: 'up'\n",
    "        }\n",
    "        self.buttonNames = {\n",
    "            2: 'left',\n",
    "            5: 'right',\n",
    "            8: 'q'\n",
    "        }\n",
    "        self._setupReverseMaps()"
   ]
  },
  {
   "cell_type": "markdown",
   "metadata": {},
   "source": [
    " - This will be inserted into controller.py in order for the inputs to be registered as specified in the class "
   ]
  }
 ],
 "metadata": {
  "kernelspec": {
   "display_name": "Python 3",
   "language": "python",
   "name": "python3"
  },
  "language_info": {
   "codemirror_mode": {
    "name": "ipython",
    "version": 3
   },
   "file_extension": ".py",
   "mimetype": "text/x-python",
   "name": "python",
   "nbconvert_exporter": "python",
   "pygments_lexer": "ipython3",
   "version": "3.7.6"
  }
 },
 "nbformat": 4,
 "nbformat_minor": 4
}
